{
  "nbformat": 4,
  "nbformat_minor": 0,
  "metadata": {
    "colab": {
      "provenance": [],
      "authorship_tag": "ABX9TyOUSctgT3pFH6B0xdEA21z9",
      "include_colab_link": true
    },
    "kernelspec": {
      "name": "python3",
      "display_name": "Python 3"
    },
    "language_info": {
      "name": "python"
    }
  },
  "cells": [
    {
      "cell_type": "markdown",
      "metadata": {
        "id": "view-in-github",
        "colab_type": "text"
      },
      "source": [
        "<a href=\"https://colab.research.google.com/github/majoperezg1204-glitch/semana1/blob/main/semana1.ipynb\" target=\"_parent\"><img src=\"https://colab.research.google.com/assets/colab-badge.svg\" alt=\"Open In Colab\"/></a>"
      ]
    },
    {
      "cell_type": "code",
      "execution_count": 1,
      "metadata": {
        "id": "rGaSGvxv7hjc",
        "colab": {
          "base_uri": "https://localhost:8080/"
        },
        "outputId": "726c2d7d-7b1d-49e3-bb91-ea881c62030b"
      },
      "outputs": [
        {
          "output_type": "stream",
          "name": "stdout",
          "text": [
            "Datos del Estudiante:\n",
            "Nombre: Marie Pérez\n",
            "Edad: 17 años\n",
            "¿Cuál es tu asignatura favorita? etica de los petalos III\n",
            "¡Qué bien! Tu asignatura favorita es etica de los petalos III.\n"
          ]
        }
      ],
      "source": [
        "# 1. Variables y tipos de datos\n",
        "nombre_estudiante = \"Marie Pérez\"\n",
        "edad = 17\n",
        "promedio = 5.0\n",
        "es_regular = True\n",
        "# 2. La función print() para mostrar información\n",
        "print(\"Datos del Estudiante:\")\n",
        "print(\"Nombre:\", nombre_estudiante)\n",
        "print(f\"Edad: {edad} años\") # Usando f-strings, una forma moderna y útil\n",
        "# 3. La función input() para recibir datos del usuario\n",
        "asignatura_favorita = input(\"¿Cuál es tu asignatura favorita? \")\n",
        "print(f\"¡Qué bien! Tu asignatura favorita es {asignatura_favorita}.\")"
      ]
    },
    {
      "cell_type": "code",
      "source": [],
      "metadata": {
        "id": "RQsXqtaWCGsv"
      },
      "execution_count": null,
      "outputs": []
    },
    {
      "cell_type": "code",
      "metadata": {
        "colab": {
          "base_uri": "https://localhost:8080/"
        },
        "id": "41655054",
        "outputId": "74667021-2cda-4027-b5d4-91f71ff4a0d2"
      },
      "source": [
        "# Definimos dos variables para almacenar los números con los que trabajaremos\n",
        "numero1 = 10\n",
        "numero2 = 5\n",
        "\n",
        "# Realizamos las operaciones aritméticas básicas\n",
        "\n",
        "# Suma: sumamos numero1 y numero2 y almacenamos el resultado en la variable 'suma'\n",
        "suma = numero1 + numero2\n",
        "\n",
        "# Resta: restamos numero2 de numero1 y almacenamos el resultado en la variable 'resta'\n",
        "resta = numero1 - numero2\n",
        "\n",
        "# Multiplicación: multiplicamos numero1 por numero2 y almacenamos el resultado en la variable 'multiplicacion'\n",
        "multiplicacion = numero1 * numero2\n",
        "\n",
        "# División: dividimos numero1 entre numero2 y almacenamos el resultado en la variable 'division'\n",
        "# Es importante considerar que la división por cero generaría un error.\n",
        "# Para simplificar, no incluimos manejo de errores en este ejemplo básico.\n",
        "division = numero1 / numero2\n",
        "\n",
        "# Mostramos los resultados de las operaciones\n",
        "print(f\"El primer número es: {numero1}\")\n",
        "print(f\"El segundo número es: {numero2}\")\n",
        "print(f\"La suma es: {suma}\")\n",
        "print(f\"La resta es: {resta}\")\n",
        "print(f\"La multiplicación es: {multiplicacion}\")\n",
        "print(f\"La división es: {division}\")"
      ],
      "execution_count": 2,
      "outputs": [
        {
          "output_type": "stream",
          "name": "stdout",
          "text": [
            "El primer número es: 10\n",
            "El segundo número es: 5\n",
            "La suma es: 15\n",
            "La resta es: 5\n",
            "La multiplicación es: 50\n",
            "La división es: 2.0\n"
          ]
        }
      ]
    }
  ]
}